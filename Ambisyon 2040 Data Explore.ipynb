{
 "cells": [
  {
   "cell_type": "code",
   "execution_count": 2,
   "metadata": {
    "collapsed": true
   },
   "outputs": [],
   "source": [
    "import pandas as pd\n",
    "%run ./AmbisyonETL.py"
   ]
  },
  {
   "cell_type": "code",
   "execution_count": 3,
   "metadata": {
    "collapsed": true
   },
   "outputs": [],
   "source": [
    "data_path = \"./SurveyResults/\""
   ]
  },
  {
   "cell_type": "code",
   "execution_count": 4,
   "metadata": {
    "collapsed": false
   },
   "outputs": [],
   "source": [
    "data = pd.read_csv(data_path+\"Ambisyon2040SurveyDataConsolidatedB\",sep=\"|\")"
   ]
  },
  {
   "cell_type": "code",
   "execution_count": 5,
   "metadata": {
    "collapsed": false
   },
   "outputs": [
    {
     "data": {
      "text/html": [
       "<div>\n",
       "<table border=\"1\" class=\"dataframe\">\n",
       "  <thead>\n",
       "    <tr style=\"text-align: right;\">\n",
       "      <th></th>\n",
       "      <th>question</th>\n",
       "      <th>Response</th>\n",
       "      <th>Total</th>\n",
       "      <th>Age 15-19</th>\n",
       "      <th>Age 20-29</th>\n",
       "      <th>Age 30-39</th>\n",
       "      <th>Age 40-50</th>\n",
       "      <th>SEC AB</th>\n",
       "      <th>SEC ABC (NET)</th>\n",
       "      <th>SEC C1</th>\n",
       "      <th>SEC C2</th>\n",
       "      <th>SEC D</th>\n",
       "      <th>SEC E</th>\n",
       "      <th>Gender Female</th>\n",
       "      <th>Gender Male</th>\n",
       "      <th>Work Status Not Working</th>\n",
       "      <th>Work Status Student</th>\n",
       "      <th>Work Status Working</th>\n",
       "      <th>Local Urban</th>\n",
       "      <th>Locale Rural</th>\n",
       "    </tr>\n",
       "  </thead>\n",
       "  <tbody>\n",
       "    <tr>\n",
       "      <th>0</th>\n",
       "      <td>10. Ability to Pay for Medical Expenses</td>\n",
       "      <td>Unweighted</td>\n",
       "      <td>10000</td>\n",
       "      <td>1511</td>\n",
       "      <td>3057</td>\n",
       "      <td>2967</td>\n",
       "      <td>2465</td>\n",
       "      <td>60</td>\n",
       "      <td>2280</td>\n",
       "      <td>493</td>\n",
       "      <td>1727</td>\n",
       "      <td>4784</td>\n",
       "      <td>2936</td>\n",
       "      <td>4998</td>\n",
       "      <td>5002</td>\n",
       "      <td>4058</td>\n",
       "      <td>1015</td>\n",
       "      <td>4927</td>\n",
       "      <td>4620</td>\n",
       "      <td>5380</td>\n",
       "    </tr>\n",
       "    <tr>\n",
       "      <th>1</th>\n",
       "      <td>10. Ability to Pay for Medical Expenses</td>\n",
       "      <td>Weighted</td>\n",
       "      <td>10000</td>\n",
       "      <td>1978</td>\n",
       "      <td>3211</td>\n",
       "      <td>2594</td>\n",
       "      <td>2217</td>\n",
       "      <td>60</td>\n",
       "      <td>2260</td>\n",
       "      <td>482</td>\n",
       "      <td>1717</td>\n",
       "      <td>4820</td>\n",
       "      <td>2921</td>\n",
       "      <td>4968</td>\n",
       "      <td>5032</td>\n",
       "      <td>4042</td>\n",
       "      <td>1305</td>\n",
       "      <td>4653</td>\n",
       "      <td>4569</td>\n",
       "      <td>5431</td>\n",
       "    </tr>\n",
       "  </tbody>\n",
       "</table>\n",
       "</div>"
      ],
      "text/plain": [
       "                                  question     Response  Total Age 15-19  \\\n",
       "0  10. Ability to Pay for Medical Expenses  Unweighted   10000      1511   \n",
       "1  10. Ability to Pay for Medical Expenses     Weighted  10000      1978   \n",
       "\n",
       "  Age 20-29 Age 30-39 Age 40-50 SEC AB SEC ABC (NET) SEC C1 SEC C2 SEC D  \\\n",
       "0      3057      2967      2465     60          2280    493   1727  4784   \n",
       "1      3211      2594      2217     60          2260    482   1717  4820   \n",
       "\n",
       "  SEC E Gender Female Gender Male Work Status Not Working Work Status Student  \\\n",
       "0  2936          4998        5002                    4058                1015   \n",
       "1  2921          4968        5032                    4042                1305   \n",
       "\n",
       "  Work Status Working Local Urban Locale Rural  \n",
       "0                4927        4620         5380  \n",
       "1                4653        4569         5431  "
      ]
     },
     "execution_count": 5,
     "metadata": {},
     "output_type": "execute_result"
    }
   ],
   "source": [
    "data.head(2)"
   ]
  },
  {
   "cell_type": "code",
   "execution_count": null,
   "metadata": {
    "collapsed": true
   },
   "outputs": [],
   "source": []
  }
 ],
 "metadata": {
  "anaconda-cloud": {},
  "kernelspec": {
   "display_name": "Python [conda root]",
   "language": "python",
   "name": "conda-root-py"
  },
  "language_info": {
   "codemirror_mode": {
    "name": "ipython",
    "version": 3
   },
   "file_extension": ".py",
   "mimetype": "text/x-python",
   "name": "python",
   "nbconvert_exporter": "python",
   "pygments_lexer": "ipython3",
   "version": "3.5.2"
  }
 },
 "nbformat": 4,
 "nbformat_minor": 1
}
