{
 "cells": [
  {
   "cell_type": "code",
   "execution_count": 10,
   "metadata": {
    "collapsed": false
   },
   "outputs": [],
   "source": [
    "import pandas as pd\n",
    "import openpyxl\n",
    "import os\n",
    "%run ./AmbisyonETL.py"
   ]
  },
  {
   "cell_type": "code",
   "execution_count": 11,
   "metadata": {
    "collapsed": true
   },
   "outputs": [],
   "source": [
    "data_path = \"./SurveyResults/\""
   ]
  },
  {
   "cell_type": "code",
   "execution_count": 12,
   "metadata": {
    "collapsed": false
   },
   "outputs": [
    {
     "data": {
      "text/plain": [
       "['Ability-to-Pay-for-Medical-Expenses.xlsx',\n",
       " 'ability-to-recover-from-unexpected-expenses.xls',\n",
       " 'Absence-of-Constraints-in-different-aspects-of-life-SAVINGS-Confident.xlsx',\n",
       " 'agreement-on-statements-on-corruption-in-local-offices-a-LOT.xls',\n",
       " 'Agreement-on-Statements-on-Corruption-in-Local-Offices-ALL.xls',\n",
       " 'Agreement-on-Statements-on-Corruption-in-Local-Offices-FEW.xls',\n",
       " 'Agreement-on-Statements-on-Corruption-in-Local-Offices-NONE.xls',\n",
       " 'Agreement-on-Statements-on-Corruption-in-National-Offices-A-LOT.xls',\n",
       " 'Agreement-on-Statements-on-Corruption-in-National-Offices-ALL.xls',\n",
       " 'Agreement-on-Statements-on-Corruption-in-National-Offices-FEW.xls',\n",
       " 'Agreement-on-Statements-on-Corruption-in-National-Offices-NONE.xls',\n",
       " 'Agreement-on-Statements-on-Employment-Agree.xls',\n",
       " 'Agreement-on-Statements-on-Employment-Agree.xlsx',\n",
       " 'Agreement-on-Statements-on-Employment-Disagree.xls',\n",
       " 'Agreement-on-Statements-on-Employment-Disagree.xlsx',\n",
       " 'Agreement-on-Statements-on-Governance-Agree.xls',\n",
       " 'Agreement-on-Statements-on-Governance-Disagree.xls',\n",
       " 'Agreement-on-Statements-on-Justice-Agree.xls',\n",
       " 'Agreement-on-Statements-on-Justice-Disagree.xls',\n",
       " 'Confidence-Achieving-Personal-Aspirations.xlsx',\n",
       " 'Confidence-Family-Good-Health.xlsx',\n",
       " 'Confidence-in-Achieving-Desired-Life-Status.xlsx',\n",
       " 'Confidence-on-Ability-to-Buy-a-House.xlsx',\n",
       " 'Confidence-on-Ability-to-Send-Children-to-School-Confident.xls',\n",
       " 'Confidence-on-Ability-to-Send-Children-to-School-Not-Confident.xls',\n",
       " 'Confidence-that-Filipinos-Will-Have-High-Standard-of-Living.xlsx',\n",
       " 'Constraints-to-Education-BIG-HINDRANCE.xls',\n",
       " 'Constraints-to-Education-NOT-HINDRANCE.xls',\n",
       " 'Constraints-to-Education-SMALL-HINDRANCE.xls',\n",
       " 'Current-Constraints-to-Saving-Money-BIG-HINDRANCE.xls',\n",
       " 'Current-Constraints-to-Saving-Money-NOT-HINDRANCE.xls',\n",
       " 'Current-Constraints-to-Saving-Money-SMALL-HINDRANCE.xls',\n",
       " 'current-level-of-educationS5-educational-attainment.xlsx',\n",
       " 'current-life-status.xls',\n",
       " 'Current-Savings.xls',\n",
       " 'Desired-Life-Status.xlsx',\n",
       " 'Desired-Occupation.xlsx',\n",
       " 'Educational-Attainment.xls',\n",
       " 'Fairness-of-Treatment-from-Gov-Agencies-Fair.xls',\n",
       " 'Fairness-of-Treatment-from-Gov-Agencies-Unfair.xls',\n",
       " 'Fear-of-Insurgencies.xls',\n",
       " 'Ideas-of-Life-Status-DWELLING-HOUSE.xlsx',\n",
       " 'Ideas-of-Life-Status-EDUCATION-OF-CHILDREN.xlsx',\n",
       " 'Ideas-of-Life-Status-FINANCES.xlsx',\n",
       " 'Ideas-of-Life-Status-OCCUPATION.xlsx',\n",
       " 'Ideas-of-Life-Status-VACATION.xlsx',\n",
       " 'Ideas-of-Life-Status-VEHICLETRANSPORTATION.xlsx',\n",
       " 'Importance-of-Education-for-Children.xlsx',\n",
       " 'Importance-of-Peace-and-Sec-for-National-Development.xlsx',\n",
       " 'Importance-of-Peace-and-Sec-for-Personal-Prosperity.xlsx',\n",
       " 'Important-Economic-Attainment-Rank-1.xlsx',\n",
       " 'Important-Gov-Services-for-Better-Future-Rank-1.xlsx',\n",
       " 'Incidence-of-Saving-in-the-Past-Year.xls',\n",
       " 'Level-of-education-currently-in.xls',\n",
       " 'Outlook-for-Children-They-will-finish-their-studies.xlsx',\n",
       " 'perceived-income-level-scale.xls',\n",
       " 'Preferred-Community-to-Live-in.xlsx',\n",
       " 'Preferred-Dwelling-type.xlsx',\n",
       " 'Preferred-Type-of-Occupation-SCALE-02.xlsx',\n",
       " 'Preferred-Type-of-Occupation-SCALE-03.xlsx',\n",
       " 'Preferred-Type-of-Occupation-SCALE.xlsx',\n",
       " 'Preferred-Work-Location.xlsx',\n",
       " 'Presence-of-Opportunities-for-Employment-or-Business.xls',\n",
       " 'satisfaction-on-health-offices-in-the-community-NOT-SATISFIED.xls',\n",
       " 'satisfaction-on-health-offices-in-the-community-SATISFIED.xls',\n",
       " 'Satisfaction-on-Schools-in-Community-DISSATISFIED.xls',\n",
       " 'Satisfaction-on-Schools-in-Community-SATISFIED.xls',\n",
       " 'Source-of-Financing-in-Buying-a-House.xlsx',\n",
       " 'Support-Upon-Retirement.xlsx',\n",
       " 'Whether-can-have-Savings-for-the-family.xlsx',\n",
       " 'whether-have-access-to-hospital.xls',\n",
       " 'Whether-Have-Job-Security.xls',\n",
       " 'Whether-Have-Plan-to-Have-a-Business.xls',\n",
       " 'Whether-Owns-House-Currently-Live-in.xls',\n",
       " 'whether-worried-about-hospital-bills.xls',\n",
       " 'Whether-Worried-on-Having-Job-or-Source-of-Income.xls']"
      ]
     },
     "execution_count": 12,
     "metadata": {},
     "output_type": "execute_result"
    }
   ],
   "source": [
    "list_dir = os.listdir(data_path)\n",
    "list_dir"
   ]
  },
  {
   "cell_type": "code",
   "execution_count": null,
   "metadata": {
    "collapsed": false
   },
   "outputs": [],
   "source": [
    "data = pd.DataFrame()\n",
    "fname_error = list()\n",
    "for fname in list_dir:\n",
    "    try:\n",
    "        temp = get_data(fname,data_path)\n",
    "        temp.to_csv(data_path+\"AmbisyonSurveyResultsConsolidated.csv\",sep=\"|\",mode=\"a\")\n",
    "    except:\n",
    "        fname_error.append(fname)"
   ]
  },
  {
   "cell_type": "code",
   "execution_count": 259,
   "metadata": {
    "collapsed": false
   },
   "outputs": [
    {
     "data": {
      "text/plain": [
       "array(['10. Ability to Pay for Medical Expenses',\n",
       "       '4. Absence of Constraints in different aspects of life - Confident',\n",
       "       '15. Agreement on Statements on Employment - Agree',\n",
       "       '15. Agreement on Statements on Employment - Disagree',\n",
       "       '6. Confidence Achieving Personal Aspirations',\n",
       "       '9. Confidence Family Good Health',\n",
       "       '7. Confidence in Achieving Desired Life Status',\n",
       "       '26. Confidence on Ability to Buy a House',\n",
       "       '1. Desired Life Status', '16. Desired Occupation',\n",
       "       '2. Ideas of Life Status - DWELLING/ HOUSE',\n",
       "       '2. Ideas of Life Status - EDUCATION OF CHILDREN',\n",
       "       '2. Ideas of Life Status - FINANCES',\n",
       "       '2. Ideas of Life Status - OCCUPATION',\n",
       "       '2. Ideas of Life Status - VACATION',\n",
       "       '2. Ideas of Life Status - VEHICLE/TRANSPORTATION',\n",
       "       '13. Importance of Education for Children',\n",
       "       '35. Importance of Peace and Sec for National Development',\n",
       "       '30. Important Economic Attainment: Rank 1',\n",
       "       '33. Important Gov Services for Better Future: Rank 1',\n",
       "       '5. Outlook for Children: They will finish their studies.',\n",
       "       '17. Preferred Type of Occupation ---- SCALE',\n",
       "       '18. Support Upon Retirement',\n",
       "       '8. Whether can have Savings for the family'], dtype=object)"
      ]
     },
     "execution_count": 259,
     "metadata": {},
     "output_type": "execute_result"
    }
   ],
   "source": [
    "questions = pd.unique(data['question'])\n",
    "questions"
   ]
  },
  {
   "cell_type": "code",
   "execution_count": 9,
   "metadata": {
    "collapsed": false
   },
   "outputs": [
    {
     "data": {
      "text/plain": [
       "76"
      ]
     },
     "execution_count": 9,
     "metadata": {},
     "output_type": "execute_result"
    }
   ],
   "source": [
    "len(list_dir)"
   ]
  },
  {
   "cell_type": "code",
   "execution_count": null,
   "metadata": {
    "collapsed": true
   },
   "outputs": [],
   "source": [
    "len(questions)"
   ]
  },
  {
   "cell_type": "code",
   "execution_count": 265,
   "metadata": {
    "collapsed": false
   },
   "outputs": [
    {
     "data": {
      "text/plain": [
       "['.DS_Store',\n",
       " 'Confidence-that-Filipinos-Will-Have-High-Standard-of-Living.xlsx',\n",
       " 'Importance-of-Peace-and-Sec-for-Personal-Prosperity.xlsx',\n",
       " 'Preferred-Community-to-Live-in.xlsx',\n",
       " 'Preferred-Dwelling-type.xlsx',\n",
       " 'Preferred-Work-Location.xlsx',\n",
       " 'Source-of-Financing-in-Buying-a-House.xlsx',\n",
       " '~$Agreement-on-Statements-on-Employment-Agree.xlsx',\n",
       " '~$Agreement-on-Statements-on-Employment-Disagree.xlsx']"
      ]
     },
     "execution_count": 265,
     "metadata": {},
     "output_type": "execute_result"
    }
   ],
   "source": [
    "fname_error"
   ]
  }
 ],
 "metadata": {
  "anaconda-cloud": {},
  "kernelspec": {
   "display_name": "Python [conda root]",
   "language": "python",
   "name": "conda-root-py"
  },
  "language_info": {
   "codemirror_mode": {
    "name": "ipython",
    "version": 3
   },
   "file_extension": ".py",
   "mimetype": "text/x-python",
   "name": "python",
   "nbconvert_exporter": "python",
   "pygments_lexer": "ipython3",
   "version": "3.5.2"
  }
 },
 "nbformat": 4,
 "nbformat_minor": 1
}
